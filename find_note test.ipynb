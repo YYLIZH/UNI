{
 "cells": [
  {
   "cell_type": "code",
   "execution_count": 1,
   "metadata": {},
   "outputs": [],
   "source": [
    "import cv2\n",
    "import numpy as np\n",
    "\n",
    "\n",
    "def find_note(im):\n",
    "    #kernel = np.array([[-1, -1, -1], [-1, 9, -1], [-1, -1, -1]])\n",
    "    #imsharpen = cv2.filter2D(im, -1, kernel)\n",
    "    imgray = cv2.cvtColor(im, cv2.COLOR_BGR2GRAY)\n",
    "    ret, thresh = cv2.threshold(imgray, 127, 255, 0)\n",
    "    _, contours, _ = cv2.findContours(thresh, cv2.RETR_TREE, cv2.CHAIN_APPROX_SIMPLE)\n",
    "    AreaPropotion = im.shape[0] * im.shape[1] / 104895\n",
    "    X_Propotion = im.shape[0] / 185\n",
    "    Y_Propotion = im.shape[1] / 567\n",
    "    positionList = np.array([],dtype=int)\n",
    "    for cnt in contours:\n",
    "        cntList=[]\n",
    "        if len(cnt) <= 100 and len(cnt) >= 6:\n",
    "            area=cv2.contourArea(cnt)\n",
    "            if area>200:\n",
    "                cv2.drawContours(im, [cnt], 0, (0, 0, 255), 2)\n",
    "                cntList.extend(cnt)\n",
    "                cntList = np.array(cntList)\n",
    "                x = int((max(cntList[:, 0][:, 0]) + min(cntList[:, 0][:, 0]))/2)\n",
    "                #x_diff = int(max(cntList[:, 0][:, 0])-min(cntList[:, 0][:, 0]))\n",
    "                y = int((max(cntList[:, 0][:, 1]) + min(cntList[:, 0][:, 1]))/2)\n",
    "                positionList = np.append(positionList, [x, y,min(cntList[:,0][:,1])])\n",
    "                positionList = positionList.reshape(-1, 3)\n",
    "                positionList = matrix_radix_sort(positionList)\n",
    "                hold = positionList[0, 0]\n",
    "                cv2.circle(im, (positionList[0, 0], positionList[0, 1]), 2, (0, 0, 255), 0)\n",
    "                curr = 1\n",
    "                tail = len(positionList)\n",
    "                while tail-curr > 0:\n",
    "                    if abs(hold - positionList[curr,0]) < 10:\n",
    "                        positionList = np.delete(positionList, (curr), axis=0)\n",
    "                        tail = tail-1\n",
    "                    else:\n",
    "                        hold = positionList[curr, 0]\n",
    "                        cv2.circle(im, (positionList[curr, 0], positionList[curr, 1]), 2, (0, 0, 255), 0)\n",
    "                        curr = curr+1\n",
    "\n",
    "\n",
    "    return im,imgray,positionList\n",
    "\n",
    "\n",
    "def matrix_radix_sort(matrix):\n",
    "    matrix = matrix[matrix[:, 1].argsort()]\n",
    "    hold=0\n",
    "    for i in range(len(matrix[:,1])):\n",
    "        if matrix[i,1]!=hold:\n",
    "            result = np.where(matrix[:,1]==matrix[i,1])\n",
    "            if len(result[0])>1:\n",
    "                order=result[0]\n",
    "                matrix[order]=matrix[order][matrix[order][:,0].argsort()]\n",
    "            hold=matrix[i,1]\n",
    "    return matrix\n",
    "\n",
    "def classify(array,imgray):\n",
    "    array=np.append(array,0)\n",
    "    for i in range(array[1],array[2],-1):\n",
    "        if imgray[i][array[0]]<100:\n",
    "            array[3]=1\n",
    "    return array\n",
    "#0 means white, 1 means black"
   ]
  },
  {
   "cell_type": "code",
   "execution_count": 2,
   "metadata": {},
   "outputs": [
    {
     "name": "stdout",
     "output_type": "stream",
     "text": [
      "198.10526315789474\n"
     ]
    }
   ],
   "source": [
    "im1=cv2.imread('hold.PNG')\n",
    "imgray = cv2.cvtColor(im1, cv2.COLOR_BGR2GRAY)\n",
    "im_1,imgray1,positionList1=find_note(np.copy(im1))\n",
    "\n",
    "\n",
    "array=positionList1[0]\n",
    "'''\n",
    "for i in range(array[1],array[2],-1):\n",
    "    print(imgray[i][array[0]])\n",
    "'''\n",
    "mea=imgray[array[2]:array[1],array[0]]\n",
    "print(np.mean(mea))\n",
    "#left=132.1875\n",
    "#right=141.647\n",
    "#click=179.5\n",
    "#hold=198.10\n",
    "#L=193.526\n",
    "#K=225.722\n",
    "#!=230.8888\n",
    "#E=212.777\n",
    "#F=194.84\n"
   ]
  },
  {
   "cell_type": "code",
   "execution_count": 13,
   "metadata": {},
   "outputs": [
    {
     "name": "stdout",
     "output_type": "stream",
     "text": [
      "[[ 1  2  3]\n",
      " [ 4  5  6]\n",
      " [ 7  8  9]\n",
      " [10 11 12]]\n"
     ]
    }
   ],
   "source": [
    "a=np.array([[1,2,3],[4,5,6],[7,8,9],[10,11,12]])\n",
    "print(a)"
   ]
  },
  {
   "cell_type": "code",
   "execution_count": 21,
   "metadata": {},
   "outputs": [
    {
     "ename": "SyntaxError",
     "evalue": "invalid syntax (<ipython-input-21-e3c8185982c0>, line 1)",
     "output_type": "error",
     "traceback": [
      "\u001b[1;36m  File \u001b[1;32m\"<ipython-input-21-e3c8185982c0>\"\u001b[1;36m, line \u001b[1;32m1\u001b[0m\n\u001b[1;33m    print(a[[1:3],0])\u001b[0m\n\u001b[1;37m              ^\u001b[0m\n\u001b[1;31mSyntaxError\u001b[0m\u001b[1;31m:\u001b[0m invalid syntax\n"
     ]
    }
   ],
   "source": [
    "print(a[[1:3],0])"
   ]
  },
  {
   "cell_type": "code",
   "execution_count": 30,
   "metadata": {},
   "outputs": [
    {
     "data": {
      "text/plain": [
       "array([], dtype=int32)"
      ]
     },
     "execution_count": 30,
     "metadata": {},
     "output_type": "execute_result"
    }
   ],
   "source": [
    "a[0:3,0]"
   ]
  },
  {
   "cell_type": "code",
   "execution_count": null,
   "metadata": {},
   "outputs": [],
   "source": []
  }
 ],
 "metadata": {
  "kernelspec": {
   "display_name": "Python 3",
   "language": "python",
   "name": "python3"
  },
  "language_info": {
   "codemirror_mode": {
    "name": "ipython",
    "version": 3
   },
   "file_extension": ".py",
   "mimetype": "text/x-python",
   "name": "python",
   "nbconvert_exporter": "python",
   "pygments_lexer": "ipython3",
   "version": "3.7.1"
  }
 },
 "nbformat": 4,
 "nbformat_minor": 2
}
