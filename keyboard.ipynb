{
 "cells": [
  {
   "cell_type": "code",
   "execution_count": 1,
   "metadata": {},
   "outputs": [],
   "source": [
    "import pyautogui\n",
    "import time\n",
    "import threading"
   ]
  },
  {
   "cell_type": "code",
   "execution_count": 6,
   "metadata": {},
   "outputs": [],
   "source": [
    "def hold_key(key,hold_time):\n",
    "    start = time.time()\n",
    "    while time.time()-start<hold_time:\n",
    "        pyautogui.keyDown(key)"
   ]
  },
  {
   "cell_type": "code",
   "execution_count": null,
   "metadata": {},
   "outputs": [],
   "source": [
    "class Button:\n",
    "    def __init__(self,buttonplace,buttonlist):\n",
    "        self.status = 0\n",
    "        self.place = buttonplace\n",
    "        self.click = buttonlist[0]\n",
    "        self.up = buttonlist[1]\n",
    "        self.left = buttonlist[2]\n",
    "        self.left = buttonlist[3]\n",
    "        \n",
    "    def press(self, noteType):\n",
    "        if noteType == 'Click' or noteType == 'Other Click':\n",
    "            if self.status == 0:\n",
    "                pyautogui.press(self.click)\n",
    "            else:\n",
    "                pyautogui.Up(self.click)\n",
    "        elif noteType == 'Left':\n",
    "            if self.status == 0:\n",
    "                pyautogui.press(self.left)\n",
    "            else:\n",
    "                pyautogui.press(self.left)\n",
    "                pyautogui.Up(self.click)\n",
    "        elif noteType == 'Right':\n",
    "            if self.status == 0:\n",
    "                pyautogui.press(self.right)\n",
    "            else:\n",
    "                pyautogui.\n",
    "        elif noteType == 'Up':\n",
    "            if self.status == 0:\n",
    "                pyautogui.press(self.up)\n",
    "        elif noteType == 'hold':\n",
    "            if self.status == 1:\n",
    "                pyautogui.keyUp(self.click)"
   ]
  },
  {
   "cell_type": "code",
   "execution_count": null,
   "metadata": {},
   "outputs": [],
   "source": [
    "class VirtualButton(Button):\n",
    "    def hold_key(self,key,check):\n",
    "        global check\n",
    "        start = time.time()\n",
    "        while \n",
    "            time.time()-start<10:\n",
    "            pyautogui.keyDown(key)"
   ]
  },
  {
   "cell_type": "code",
   "execution_count": 11,
   "metadata": {},
   "outputs": [],
   "source": [
    "class BigDog:\n",
    "    def Print(self):\n",
    "        global Dog\n",
    "        while Dog == 0:\n",
    "            time.sleep(1)\n",
    "            print(1)\n",
    "\n",
    "            \n",
    "class SmallDog(BigDog):\n",
    "    def set_dog(self):\n",
    "        global Dog1\n",
    "        Dog1=1\n",
    "    "
   ]
  },
  {
   "cell_type": "code",
   "execution_count": 12,
   "metadata": {},
   "outputs": [
    {
     "name": "stderr",
     "output_type": "stream",
     "text": [
      "Exception in thread Thread-14:\n",
      "Traceback (most recent call last):\n",
      "  File \"C:\\ProgramData\\Anaconda3\\lib\\threading.py\", line 917, in _bootstrap_inner\n",
      "    self.run()\n",
      "  File \"C:\\ProgramData\\Anaconda3\\lib\\threading.py\", line 865, in run\n",
      "    self._target(*self._args, **self._kwargs)\n",
      "TypeError: Print() takes 1 positional argument but 2 were given\n",
      "\n"
     ]
    }
   ],
   "source": [
    "Dog1=0\n",
    "B=BigDog()\n",
    "def pause():\n",
    "    S=SmallDog()\n",
    "    time.sleep(10)\n",
    "    S.set_dog()\n",
    "BigThread=threading.Thread(target=B.Print, args=(Dog1,))\n",
    "SmallThread=threading.Thread(target=pause)\n",
    "BigThread.start()\n",
    "SmallThread.start()"
   ]
  },
  {
   "cell_type": "code",
   "execution_count": 7,
   "metadata": {},
   "outputs": [
    {
     "ename": "TypeError",
     "evalue": "Print() takes 1 positional argument but 2 were given",
     "output_type": "error",
     "traceback": [
      "\u001b[1;31m---------------------------------------------------------------------------\u001b[0m",
      "\u001b[1;31mTypeError\u001b[0m                                 Traceback (most recent call last)",
      "\u001b[1;32m<ipython-input-7-766099fcebd7>\u001b[0m in \u001b[0;36m<module>\u001b[1;34m\u001b[0m\n\u001b[1;32m----> 1\u001b[1;33m \u001b[0mB\u001b[0m\u001b[1;33m.\u001b[0m\u001b[0mPrint\u001b[0m\u001b[1;33m(\u001b[0m\u001b[0mDog1\u001b[0m\u001b[1;33m)\u001b[0m\u001b[1;33m\u001b[0m\u001b[1;33m\u001b[0m\u001b[0m\n\u001b[0m",
      "\u001b[1;31mTypeError\u001b[0m: Print() takes 1 positional argument but 2 were given"
     ]
    }
   ],
   "source": [
    "B.Print(Dog1)"
   ]
  },
  {
   "cell_type": "code",
   "execution_count": null,
   "metadata": {},
   "outputs": [],
   "source": []
  }
 ],
 "metadata": {
  "kernelspec": {
   "display_name": "Python 3",
   "language": "python",
   "name": "python3"
  },
  "language_info": {
   "codemirror_mode": {
    "name": "ipython",
    "version": 3
   },
   "file_extension": ".py",
   "mimetype": "text/x-python",
   "name": "python",
   "nbconvert_exporter": "python",
   "pygments_lexer": "ipython3",
   "version": "3.7.1"
  }
 },
 "nbformat": 4,
 "nbformat_minor": 4
}
