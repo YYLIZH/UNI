{
 "cells": [
  {
   "cell_type": "code",
   "execution_count": 3,
   "metadata": {},
   "outputs": [],
   "source": [
    "import pyautogui\n",
    "import time"
   ]
  },
  {
   "cell_type": "code",
   "execution_count": 6,
   "metadata": {},
   "outputs": [],
   "source": [
    "def hold_key(key,hold_time):\n",
    "    start = time.time()\n",
    "    while time.time()-start<hold_time:\n",
    "        pyautogui.keyDown(key)"
   ]
  },
  {
   "cell_type": "code",
   "execution_count": null,
   "metadata": {},
   "outputs": [],
   "source": [
    "class button:\n",
    "    def __init__(self,buttonplace,buttonlist):\n",
    "        self.status = 0\n",
    "        self.place = buttonplace\n",
    "        self.click = buttonlist[0]\n",
    "        self.up = buttonlist[1]\n",
    "        self.left = buttonlist[2]\n",
    "        self.left = buttonlist[3]\n",
    "        \n",
    "    def press(self, noteType):\n",
    "        if noteType == 'Click' or noteType == 'Other Click':\n",
    "            if self.status == 0:\n",
    "                pyautogui.press(self.click)\n",
    "            else:\n",
    "                pyautogui.Up(self.click)\n",
    "        elif noteType == 'Left':\n",
    "            if self.status == 0:\n",
    "                pyautogui.press(self.left)\n",
    "            else:\n",
    "                pyautogui.press(self.left)\n",
    "                pyautogui.Up(self.click)\n",
    "        elif noteType == 'Right':\n",
    "            if self.status == 0:\n",
    "                pyautogui.press(self.right)\n",
    "            else:\n",
    "                pyautogui.\n",
    "        elif noteType == 'Up':\n",
    "            if self.status == 0:\n",
    "                pyautogui.press(self.up)\n",
    "        elif noteType == 'hold':\n",
    "            if self.status == 1:\n",
    "                pyautogui.keyUp(self.click)"
   ]
  }
 ],
 "metadata": {
  "kernelspec": {
   "display_name": "Python 3",
   "language": "python",
   "name": "python3"
  },
  "language_info": {
   "codemirror_mode": {
    "name": "ipython",
    "version": 3
   },
   "file_extension": ".py",
   "mimetype": "text/x-python",
   "name": "python",
   "nbconvert_exporter": "python",
   "pygments_lexer": "ipython3",
   "version": "3.7.1"
  }
 },
 "nbformat": 4,
 "nbformat_minor": 4
}
